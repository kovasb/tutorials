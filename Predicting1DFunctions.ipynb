{
  "nbformat": 4,
  "nbformat_minor": 0,
  "metadata": {
    "colab": {
      "name": "Predicting1DFunctions.ipynb",
      "version": "0.3.2",
      "provenance": [],
      "collapsed_sections": []
    },
    "kernelspec": {
      "name": "python2",
      "display_name": "Python 2"
    }
  },
  "cells": [
    {
      "cell_type": "markdown",
      "metadata": {
        "id": "view-in-github",
        "colab_type": "text"
      },
      "source": [
        "[View in Colaboratory](https://colab.research.google.com/github/kovasb/tutorials/blob/master/Predicting1DFunctions.ipynb)"
      ]
    },
    {
      "metadata": {
        "id": "7YXXAZlmfMn4",
        "colab_type": "code",
        "colab": {}
      },
      "cell_type": "code",
      "source": [
        "import tensorflow as tf\n",
        "import numpy as np\n",
        "%matplotlib inline\n",
        "import matplotlib.pyplot as plt"
      ],
      "execution_count": 0,
      "outputs": []
    },
    {
      "metadata": {
        "id": "Nx43foUeg3nS",
        "colab_type": "code",
        "colab": {
          "base_uri": "https://localhost:8080/",
          "height": 34
        },
        "outputId": "18c17f3e-95db-459b-c695-0174b0c1bf52"
      },
      "cell_type": "code",
      "source": [
        "!pip install XXX"
      ],
      "execution_count": 2,
      "outputs": [
        {
          "output_type": "execute_result",
          "data": {
            "text/plain": [
              "12"
            ]
          },
          "metadata": {
            "tags": []
          },
          "execution_count": 2
        }
      ]
    },
    {
      "metadata": {
        "id": "TRIKPKVUxF_8",
        "colab_type": "code",
        "colab": {
          "base_uri": "https://localhost:8080/",
          "height": 615
        },
        "outputId": "1f37b380-f91a-4d28-9e51-1ec0bcc046b4"
      },
      "cell_type": "code",
      "source": [
        "!pip install tf-nightly"
      ],
      "execution_count": 0,
      "outputs": [
        {
          "output_type": "stream",
          "text": [
            "Collecting tf-nightly\n",
            "  Downloading tf_nightly-1.5.0.dev20171227-cp27-cp27mu-manylinux1_x86_64.whl (44.4MB)\n",
            "\u001b[K    100% |████████████████████████████████| 44.4MB 25kB/s \n",
            "\u001b[?25hRequirement already satisfied: mock>=2.0.0 in /usr/local/lib/python2.7/dist-packages (from tf-nightly)\n",
            "Requirement already satisfied: protobuf>=3.4.0 in /usr/local/lib/python2.7/dist-packages (from tf-nightly)\n",
            "Requirement already satisfied: wheel in /usr/local/lib/python2.7/dist-packages (from tf-nightly)\n",
            "Collecting absl-py>=0.1.6 (from tf-nightly)\n",
            "  Downloading absl-py-0.1.7.tar.gz (78kB)\n",
            "\u001b[K    100% |████████████████████████████████| 81kB 7.1MB/s \n",
            "\u001b[?25hRequirement already satisfied: backports.weakref>=1.0rc1 in /usr/local/lib/python2.7/dist-packages (from tf-nightly)\n",
            "Requirement already satisfied: enum34>=1.1.6 in /usr/local/lib/python2.7/dist-packages (from tf-nightly)\n",
            "Requirement already satisfied: six>=1.10.0 in /usr/local/lib/python2.7/dist-packages (from tf-nightly)\n",
            "Collecting tb-nightly<1.6.0a0,>=1.5.0a0 (from tf-nightly)\n",
            "  Downloading tb_nightly-1.5.0a20171227-py2-none-any.whl (3.0MB)\n",
            "\u001b[K    100% |████████████████████████████████| 3.0MB 377kB/s \n",
            "\u001b[?25hRequirement already satisfied: numpy>=1.12.1 in /usr/local/lib/python2.7/dist-packages (from tf-nightly)\n",
            "Requirement already satisfied: funcsigs>=1; python_version < \"3.3\" in /usr/local/lib/python2.7/dist-packages (from mock>=2.0.0->tf-nightly)\n",
            "Requirement already satisfied: pbr>=0.11 in /usr/local/lib/python2.7/dist-packages (from mock>=2.0.0->tf-nightly)\n",
            "Requirement already satisfied: setuptools in /usr/local/lib/python2.7/dist-packages (from protobuf>=3.4.0->tf-nightly)\n",
            "Requirement already satisfied: bleach==1.5.0 in /usr/local/lib/python2.7/dist-packages (from tb-nightly<1.6.0a0,>=1.5.0a0->tf-nightly)\n",
            "Collecting futures>=3.1.1; python_version < \"3.2\" (from tb-nightly<1.6.0a0,>=1.5.0a0->tf-nightly)\n",
            "  Downloading futures-3.2.0-py2-none-any.whl\n",
            "Requirement already satisfied: html5lib==0.9999999 in /usr/local/lib/python2.7/dist-packages (from tb-nightly<1.6.0a0,>=1.5.0a0->tf-nightly)\n",
            "Requirement already satisfied: werkzeug>=0.11.10 in /usr/local/lib/python2.7/dist-packages (from tb-nightly<1.6.0a0,>=1.5.0a0->tf-nightly)\n",
            "Requirement already satisfied: markdown>=2.6.8 in /usr/local/lib/python2.7/dist-packages (from tb-nightly<1.6.0a0,>=1.5.0a0->tf-nightly)\n",
            "Building wheels for collected packages: absl-py\n",
            "  Running setup.py bdist_wheel for absl-py ... \u001b[?25l-\b \bdone\n",
            "\u001b[?25h  Stored in directory: /content/.cache/pip/wheels/c4/71/71/7bd70f858f062d3f99990dcbc3f45b795bde057a42f971537f\n",
            "Successfully built absl-py\n",
            "Installing collected packages: absl-py, futures, tb-nightly, tf-nightly\n",
            "  Found existing installation: futures 3.0.5\n",
            "    Uninstalling futures-3.0.5:\n",
            "      Successfully uninstalled futures-3.0.5\n",
            "Successfully installed absl-py-0.1.7 futures-3.2.0 tb-nightly-1.5.0a20171227 tf-nightly-1.5.0.dev20171227\n"
          ],
          "name": "stdout"
        }
      ]
    },
    {
      "metadata": {
        "id": "bpirwnrOxxKL",
        "colab_type": "code",
        "colab": {}
      },
      "cell_type": "code",
      "source": [
        "import tensorflow as tf"
      ],
      "execution_count": 0,
      "outputs": []
    },
    {
      "metadata": {
        "id": "X8gKCCB3x0JY",
        "colab_type": "code",
        "colab": {
          "base_uri": "https://localhost:8080/",
          "height": 34
        },
        "outputId": "7a3f6a88-7347-48b1-a1a8-eea7dcbc948d"
      },
      "cell_type": "code",
      "source": [
        "tf.__version__"
      ],
      "execution_count": 0,
      "outputs": [
        {
          "output_type": "execute_result",
          "data": {
            "text/plain": [
              "'1.5.0-dev20171227'"
            ]
          },
          "metadata": {
            "tags": []
          },
          "execution_count": 4
        }
      ]
    },
    {
      "metadata": {
        "id": "mt156Ts02vH1",
        "colab_type": "code",
        "colab": {}
      },
      "cell_type": "code",
      "source": [
        "import tensorflow.contrib.eager as tfe\n"
      ],
      "execution_count": 0,
      "outputs": []
    },
    {
      "metadata": {
        "id": "CBbNgpuf22CK",
        "colab_type": "code",
        "colab": {}
      },
      "cell_type": "code",
      "source": [
        "tfe.enable_eager_execution()\n"
      ],
      "execution_count": 0,
      "outputs": []
    },
    {
      "metadata": {
        "id": "VLSo-tdn24WS",
        "colab_type": "code",
        "colab": {
          "base_uri": "https://localhost:8080/",
          "height": 68
        },
        "outputId": "46ad0107-d619-45e8-8006-b5a69fa8d811"
      },
      "cell_type": "code",
      "source": [
        "tf.matmul([[1, 2],\n",
        "               [3, 4]],\n",
        "              [[4, 5],\n",
        "               [6, 7]])"
      ],
      "execution_count": 0,
      "outputs": [
        {
          "output_type": "execute_result",
          "data": {
            "text/plain": [
              "<tf.Tensor: id=6, shape=(2, 2), dtype=int32, numpy=\n",
              "array([[16, 19],\n",
              "       [36, 43]], dtype=int32)>"
            ]
          },
          "metadata": {
            "tags": []
          },
          "execution_count": 9
        }
      ]
    },
    {
      "metadata": {
        "id": "oh0_L-Yy28J0",
        "colab_type": "code",
        "colab": {}
      },
      "cell_type": "code",
      "source": [
        "y = tf.add(x, 1)"
      ],
      "execution_count": 0,
      "outputs": []
    },
    {
      "metadata": {
        "id": "I-9n9uXn3Mcs",
        "colab_type": "code",
        "colab": {
          "base_uri": "https://localhost:8080/",
          "height": 68
        },
        "outputId": "4d6c7827-6e7e-4e5a-ba3b-5a8db5b8d5ea"
      },
      "cell_type": "code",
      "source": [
        "y"
      ],
      "execution_count": 0,
      "outputs": [
        {
          "output_type": "execute_result",
          "data": {
            "text/plain": [
              "<tf.Tensor: id=9, shape=(2, 2), dtype=int32, numpy=\n",
              "array([[17, 20],\n",
              "       [37, 44]], dtype=int32)>"
            ]
          },
          "metadata": {
            "tags": []
          },
          "execution_count": 11
        }
      ]
    },
    {
      "metadata": {
        "id": "BrJBeQoFiCZW",
        "colab_type": "text"
      },
      "cell_type": "markdown",
      "source": [
        "## Step 1: Acquire data\n",
        "\n",
        "We want to start with some data.\n",
        "\n"
      ]
    },
    {
      "metadata": {
        "id": "_YHjI_zRiILU",
        "colab_type": "code",
        "colab": {}
      },
      "cell_type": "code",
      "source": [
        "# set of x coordinates\n",
        "x = np.arange(0,100).astype(np.float32)\n",
        "slope = 3\n",
        "intercept = 10\n",
        "# corresponding y values at given x's\n",
        "y = slope*x+intercept"
      ],
      "execution_count": 0,
      "outputs": []
    },
    {
      "metadata": {
        "id": "ljX8iClEhmj5",
        "colab_type": "code",
        "colab": {
          "base_uri": "https://localhost:8080/",
          "height": 34
        },
        "outputId": "ab68c1ac-3fda-4c6b-d8b4-38804e02eb96"
      },
      "cell_type": "code",
      "source": [
        "x[:10]"
      ],
      "execution_count": 0,
      "outputs": [
        {
          "output_type": "execute_result",
          "data": {
            "text/plain": [
              "array([ 0.,  1.,  2.,  3.,  4.,  5.,  6.,  7.,  8.,  9.], dtype=float32)"
            ]
          },
          "metadata": {
            "tags": []
          },
          "execution_count": 3
        }
      ]
    },
    {
      "metadata": {
        "id": "VKxuIpG1hrHR",
        "colab_type": "code",
        "colab": {
          "base_uri": "https://localhost:8080/",
          "height": 34
        },
        "outputId": "1e2218a3-5919-4893-809e-35f699b04ba8"
      },
      "cell_type": "code",
      "source": [
        "y[:10]"
      ],
      "execution_count": 0,
      "outputs": [
        {
          "output_type": "execute_result",
          "data": {
            "text/plain": [
              "array([ 10.,  13.,  16.,  19.,  22.,  25.,  28.,  31.,  34.,  37.], dtype=float32)"
            ]
          },
          "metadata": {
            "tags": []
          },
          "execution_count": 4
        }
      ]
    },
    {
      "metadata": {
        "id": "1bi-vubBjA55",
        "colab_type": "text"
      },
      "cell_type": "markdown",
      "source": [
        "## now we turn this into a \"Dataset\" that tf can read"
      ]
    },
    {
      "metadata": {
        "id": "9DmwCalejL2n",
        "colab_type": "code",
        "colab": {}
      },
      "cell_type": "code",
      "source": [
        "input_fn = tf.estimator.inputs.numpy_input_fn({'data':x}, y, batch_size=1, shuffle=False)"
      ],
      "execution_count": 0,
      "outputs": []
    },
    {
      "metadata": {
        "id": "CtSj3cJbsDX-",
        "colab_type": "code",
        "colab": {}
      },
      "cell_type": "code",
      "source": [
        "input_fn_2 = tf.estimator.inputs.numpy_input_fn({'data':x}, None, batch_size=1, shuffle=False)"
      ],
      "execution_count": 0,
      "outputs": []
    },
    {
      "metadata": {
        "id": "TqvG2lhyio-G",
        "colab_type": "text"
      },
      "cell_type": "markdown",
      "source": [
        "## create an estimator"
      ]
    },
    {
      "metadata": {
        "id": "xQoUU8PIiqdg",
        "colab_type": "code",
        "colab": {
          "base_uri": "https://localhost:8080/",
          "height": 88
        },
        "outputId": "4a7e223c-f5a3-4fe2-976d-331bae96bc31"
      },
      "cell_type": "code",
      "source": [
        "estimator = tf.estimator.LinearRegressor(\n",
        "  feature_columns = [tf.feature_column.numeric_column('data',[1])])"
      ],
      "execution_count": 0,
      "outputs": [
        {
          "output_type": "stream",
          "text": [
            "INFO:tensorflow:Using default config.\n",
            "WARNING:tensorflow:Using temporary folder as model directory: /tmp/tmpOSm9uY\n",
            "INFO:tensorflow:Using config: {'_save_checkpoints_secs': 600, '_session_config': None, '_keep_checkpoint_max': 5, '_task_type': 'worker', '_is_chief': True, '_cluster_spec': <tensorflow.python.training.server_lib.ClusterSpec object at 0x7fb0c00799d0>, '_save_checkpoints_steps': None, '_keep_checkpoint_every_n_hours': 10000, '_service': None, '_num_ps_replicas': 0, '_tf_random_seed': None, '_master': '', '_num_worker_replicas': 1, '_task_id': 0, '_log_step_count_steps': 100, '_model_dir': '/tmp/tmpOSm9uY', '_save_summary_steps': 100}\n"
          ],
          "name": "stdout"
        }
      ]
    },
    {
      "metadata": {
        "id": "0EvLMFKHQlA9",
        "colab_type": "code",
        "colab": {
          "base_uri": "https://localhost:8080/",
          "height": 119
        },
        "outputId": "2497935b-15d1-4f82-870c-fe807c4a55e7"
      },
      "cell_type": "code",
      "source": [
        "estimator.train(input_fn=input_fn, steps=2)"
      ],
      "execution_count": 0,
      "outputs": [
        {
          "output_type": "stream",
          "text": [
            "INFO:tensorflow:Create CheckpointSaverHook.\n",
            "INFO:tensorflow:Saving checkpoints for 1 into /tmp/tmpOSm9uY/model.ckpt.\n",
            "INFO:tensorflow:loss = 100.0, step = 1\n",
            "INFO:tensorflow:Saving checkpoints for 2 into /tmp/tmpOSm9uY/model.ckpt.\n",
            "INFO:tensorflow:Loss for final step: 163.841.\n"
          ],
          "name": "stdout"
        },
        {
          "output_type": "execute_result",
          "data": {
            "text/plain": [
              "<tensorflow.python.estimator.canned.linear.LinearRegressor at 0x7fb0cd08f610>"
            ]
          },
          "metadata": {
            "tags": []
          },
          "execution_count": 8
        }
      ]
    },
    {
      "metadata": {
        "id": "8MT1qiO1udaH",
        "colab_type": "text"
      },
      "cell_type": "markdown",
      "source": [
        "## look at predictions"
      ]
    },
    {
      "metadata": {
        "id": "XS0n6eEYulSR",
        "colab_type": "code",
        "colab": {}
      },
      "cell_type": "code",
      "source": [
        "def make_predictions(estimator, input_fn):\n",
        "  y = np.concatenate(list(x['predictions'] for x in estimator.predict(input_fn=input_fn)))\n",
        "  return y"
      ],
      "execution_count": 0,
      "outputs": []
    },
    {
      "metadata": {
        "id": "Pa0bgiSFwCBC",
        "colab_type": "code",
        "colab": {
          "base_uri": "https://localhost:8080/",
          "height": 164
        },
        "outputId": "009675b3-4375-42ec-d64f-3425aadeccbc"
      },
      "cell_type": "code",
      "source": [
        "estimator.train(input_fn=input_fn, steps=2)"
      ],
      "execution_count": 0,
      "outputs": [
        {
          "output_type": "error",
          "ename": "NameError",
          "evalue": "ignored",
          "traceback": [
            "\u001b[0;31m\u001b[0m",
            "\u001b[0;31mNameError\u001b[0mTraceback (most recent call last)",
            "\u001b[0;32m<ipython-input-9-0ab23ae5cc75>\u001b[0m in \u001b[0;36m<module>\u001b[0;34m()\u001b[0m\n\u001b[0;32m----> 1\u001b[0;31m \u001b[0mestimator\u001b[0m\u001b[0;34m.\u001b[0m\u001b[0mtrain\u001b[0m\u001b[0;34m(\u001b[0m\u001b[0minput_fn\u001b[0m\u001b[0;34m=\u001b[0m\u001b[0minput_fn\u001b[0m\u001b[0;34m,\u001b[0m \u001b[0msteps\u001b[0m\u001b[0;34m=\u001b[0m\u001b[0;36m2\u001b[0m\u001b[0;34m)\u001b[0m\u001b[0;34m\u001b[0m\u001b[0m\n\u001b[0m",
            "\u001b[0;31mNameError\u001b[0m: name 'estimator' is not defined"
          ]
        }
      ]
    },
    {
      "metadata": {
        "id": "5A5fGlHpumb5",
        "colab_type": "code",
        "colab": {
          "base_uri": "https://localhost:8080/",
          "height": 34
        },
        "outputId": "b974e7f2-9b31-4ff2-9d03-345ec21e598b"
      },
      "cell_type": "code",
      "source": [
        "predictions = make_predictions(estimator, input_fn)"
      ],
      "execution_count": 0,
      "outputs": [
        {
          "output_type": "stream",
          "text": [
            "INFO:tensorflow:Restoring parameters from /tmp/tmpOSm9uY/model.ckpt-2\n"
          ],
          "name": "stdout"
        }
      ]
    },
    {
      "metadata": {
        "id": "pERQdMqeuq0_",
        "colab_type": "code",
        "colab": {}
      },
      "cell_type": "code",
      "source": [
        "\n"
      ],
      "execution_count": 0,
      "outputs": []
    },
    {
      "metadata": {
        "id": "2uyK4RfttrfB",
        "colab_type": "code",
        "colab": {
          "base_uri": "https://localhost:8080/",
          "height": 215
        },
        "outputId": "89316597-9943-4e73-bfb4-53528351739c"
      },
      "cell_type": "code",
      "source": [
        "\n",
        "plt.plot(predictions)\n",
        "plt.ylabel('some numbers')\n",
        "plt.show()"
      ],
      "execution_count": 0,
      "outputs": [
        {
          "output_type": "error",
          "ename": "NameError",
          "evalue": "ignored",
          "traceback": [
            "\u001b[0;31m\u001b[0m",
            "\u001b[0;31mNameError\u001b[0mTraceback (most recent call last)",
            "\u001b[0;32m<ipython-input-7-7257175d3ad3>\u001b[0m in \u001b[0;36m<module>\u001b[0;34m()\u001b[0m\n\u001b[1;32m      1\u001b[0m \u001b[0;34m\u001b[0m\u001b[0m\n\u001b[0;32m----> 2\u001b[0;31m \u001b[0mplt\u001b[0m\u001b[0;34m.\u001b[0m\u001b[0mplot\u001b[0m\u001b[0;34m(\u001b[0m\u001b[0mpredictions\u001b[0m\u001b[0;34m)\u001b[0m\u001b[0;34m\u001b[0m\u001b[0m\n\u001b[0m\u001b[1;32m      3\u001b[0m \u001b[0mplt\u001b[0m\u001b[0;34m.\u001b[0m\u001b[0mylabel\u001b[0m\u001b[0;34m(\u001b[0m\u001b[0;34m'some numbers'\u001b[0m\u001b[0;34m)\u001b[0m\u001b[0;34m\u001b[0m\u001b[0m\n\u001b[1;32m      4\u001b[0m \u001b[0mplt\u001b[0m\u001b[0;34m.\u001b[0m\u001b[0mshow\u001b[0m\u001b[0;34m(\u001b[0m\u001b[0;34m)\u001b[0m\u001b[0;34m\u001b[0m\u001b[0m\n",
            "\u001b[0;31mNameError\u001b[0m: name 'predictions' is not defined"
          ]
        }
      ]
    },
    {
      "metadata": {
        "id": "dgr6WRP7waYw",
        "colab_type": "text"
      },
      "cell_type": "markdown",
      "source": [
        "# Sin"
      ]
    },
    {
      "metadata": {
        "id": "pnjPuNk5wZgY",
        "colab_type": "code",
        "colab": {}
      },
      "cell_type": "code",
      "source": [
        "# set of x coordinates\n",
        "x = np.arange(0,10,0.001).astype(np.float32)\n",
        "y = np.sin(x)+1"
      ],
      "execution_count": 0,
      "outputs": []
    },
    {
      "metadata": {
        "id": "xFcDrRKqMbs-",
        "colab_type": "code",
        "colab": {
          "base_uri": "https://localhost:8080/",
          "height": 34
        },
        "outputId": "7a8bb4cf-31ab-4d46-ca7e-7d90e27134b1"
      },
      "cell_type": "code",
      "source": [
        "x.shape"
      ],
      "execution_count": 0,
      "outputs": [
        {
          "output_type": "execute_result",
          "data": {
            "text/plain": [
              "(10000,)"
            ]
          },
          "metadata": {
            "tags": []
          },
          "execution_count": 3
        }
      ]
    },
    {
      "metadata": {
        "id": "xNhwMm4fwsDy",
        "colab_type": "code",
        "colab": {
          "base_uri": "https://localhost:8080/",
          "height": 265
        },
        "outputId": "b9be6376-3861-420c-9ba6-78ca5da3877e"
      },
      "cell_type": "code",
      "source": [
        "plt.plot(y)\n",
        "plt.show()"
      ],
      "execution_count": 0,
      "outputs": [
        {
          "output_type": "display_data",
          "data": {
            "image/png": "[encoded data removed]",
            "text/plain": [
              "<matplotlib.figure.Figure at 0x7fc2e0030f10>"
            ]
          },
          "metadata": {
            "tags": []
          }
        }
      ]
    },
    {
      "metadata": {
        "id": "roBKmF9HxOE3",
        "colab_type": "code",
        "colab": {
          "base_uri": "https://localhost:8080/",
          "height": 88
        },
        "outputId": "554eacf1-9cc5-4af4-cbf4-eeb3cfa77681"
      },
      "cell_type": "code",
      "source": [
        "estimator = tf.estimator.LinearRegressor(\n",
        "  feature_columns = [tf.feature_column.numeric_column('data',[1])])"
      ],
      "execution_count": 0,
      "outputs": [
        {
          "output_type": "stream",
          "text": [
            "INFO:tensorflow:Using default config.\n",
            "WARNING:tensorflow:Using temporary folder as model directory: /tmp/tmpLQsHEY\n",
            "INFO:tensorflow:Using config: {'_save_checkpoints_secs': 600, '_session_config': None, '_keep_checkpoint_max': 5, '_task_type': 'worker', '_is_chief': True, '_cluster_spec': <tensorflow.python.training.server_lib.ClusterSpec object at 0x7fc2e04acf10>, '_save_checkpoints_steps': None, '_keep_checkpoint_every_n_hours': 10000, '_service': None, '_num_ps_replicas': 0, '_tf_random_seed': None, '_master': '', '_num_worker_replicas': 1, '_task_id': 0, '_log_step_count_steps': 100, '_model_dir': '/tmp/tmpLQsHEY', '_save_summary_steps': 100}\n"
          ],
          "name": "stdout"
        }
      ]
    },
    {
      "metadata": {
        "id": "xPJsmVymxPO2",
        "colab_type": "code",
        "colab": {}
      },
      "cell_type": "code",
      "source": [
        "estimator.train(input_fn=input_fn)"
      ],
      "execution_count": 0,
      "outputs": []
    },
    {
      "metadata": {
        "id": "Asx2cXevxTwF",
        "colab_type": "code",
        "colab": {
          "base_uri": "https://localhost:8080/",
          "height": 34
        },
        "outputId": "0a548752-7bbf-4c36-b048-8de28d61b021"
      },
      "cell_type": "code",
      "source": [
        "predictions = make_predictions(estimator, input_fn_2)"
      ],
      "execution_count": 0,
      "outputs": [
        {
          "output_type": "stream",
          "text": [
            "INFO:tensorflow:Restoring parameters from /tmp/tmpLQsHEY/model.ckpt-62500\n"
          ],
          "name": "stdout"
        }
      ]
    },
    {
      "metadata": {
        "id": "0lUPyXWexWJu",
        "colab_type": "code",
        "colab": {
          "base_uri": "https://localhost:8080/",
          "height": 265
        },
        "outputId": "5c160ef4-b30b-484d-958a-ef3999c47558"
      },
      "cell_type": "code",
      "source": [
        "plt.plot(predictions)\n",
        "plt.show()"
      ],
      "execution_count": 0,
      "outputs": [
        {
          "output_type": "display_data",
          "data": {
            "image/png": "[encoded data removed]",
            "text/plain": [
              "<matplotlib.figure.Figure at 0x7fc2e0531c90>"
            ]
          },
          "metadata": {
            "tags": []
          }
        }
      ]
    },
    {
      "metadata": {
        "id": "H2vl5cr0nr6Y",
        "colab_type": "code",
        "colab": {}
      },
      "cell_type": "code",
      "source": [
        "input_fn = tf.estimator.inputs.numpy_input_fn({'data':x}, y, batch_size=8, num_epochs=10, shuffle=True)\n",
        "input_fn_2 = tf.estimator.inputs.numpy_input_fn({'data':x}, None, batch_size=1, shuffle=False)"
      ],
      "execution_count": 0,
      "outputs": []
    },
    {
      "metadata": {
        "id": "awWjYHwaxh1O",
        "colab_type": "code",
        "colab": {
          "base_uri": "https://localhost:8080/",
          "height": 88
        },
        "outputId": "46094ed1-b717-467a-d728-e8825dd11449"
      },
      "cell_type": "code",
      "source": [
        "deep_estimator = tf.estimator.DNNRegressor(\n",
        "  feature_columns = [tf.feature_column.numeric_column('data',[1])],\n",
        "  hidden_units = [100,100],\n",
        "  activation_fn=tf.nn.tanh)"
      ],
      "execution_count": 0,
      "outputs": [
        {
          "output_type": "stream",
          "text": [
            "INFO:tensorflow:Using default config.\n",
            "WARNING:tensorflow:Using temporary folder as model directory: /tmp/tmpF3cqGV\n",
            "INFO:tensorflow:Using config: {'_save_checkpoints_secs': 600, '_session_config': None, '_keep_checkpoint_max': 5, '_task_type': 'worker', '_is_chief': True, '_cluster_spec': <tensorflow.python.training.server_lib.ClusterSpec object at 0x7fc2e03ccdd0>, '_save_checkpoints_steps': None, '_keep_checkpoint_every_n_hours': 10000, '_service': None, '_num_ps_replicas': 0, '_tf_random_seed': None, '_master': '', '_num_worker_replicas': 1, '_task_id': 0, '_log_step_count_steps': 100, '_model_dir': '/tmp/tmpF3cqGV', '_save_summary_steps': 100}\n"
          ],
          "name": "stdout"
        }
      ]
    },
    {
      "metadata": {
        "id": "rlOSzB9EY33K",
        "colab_type": "code",
        "colab": {}
      },
      "cell_type": "code",
      "source": [
        "deep_estimator.train(input_fn=input_fn)"
      ],
      "execution_count": 0,
      "outputs": []
    },
    {
      "metadata": {
        "id": "69Rw_RlBY-3i",
        "colab_type": "code",
        "colab": {
          "base_uri": "https://localhost:8080/",
          "height": 34
        },
        "outputId": "73cd7b1c-c1fa-4da4-e78f-d133a5e6b6e0"
      },
      "cell_type": "code",
      "source": [
        "predictions = make_predictions(deep_estimator, input_fn_2)"
      ],
      "execution_count": 0,
      "outputs": [
        {
          "output_type": "stream",
          "text": [
            "INFO:tensorflow:Restoring parameters from /tmp/tmpF3cqGV/model.ckpt-12500\n"
          ],
          "name": "stdout"
        }
      ]
    },
    {
      "metadata": {
        "id": "q1x-RSzXZD_6",
        "colab_type": "code",
        "colab": {
          "base_uri": "https://localhost:8080/",
          "height": 265
        },
        "outputId": "cfd1f131-3ea3-4d5b-da94-17717b925737"
      },
      "cell_type": "code",
      "source": [
        "plt.plot(predictions)\n",
        "plt.show()"
      ],
      "execution_count": 0,
      "outputs": [
        {
          "output_type": "display_data",
          "data": {
            "image/png": "[encoded data removed]",
            "text/plain": [
              "<matplotlib.figure.Figure at 0x7fc2e00c6790>"
            ]
          },
          "metadata": {
            "tags": []
          }
        }
      ]
    },
    {
      "metadata": {
        "id": "EXr0n9NHpz6U",
        "colab_type": "text"
      },
      "cell_type": "markdown",
      "source": [
        "# Sqrt"
      ]
    },
    {
      "metadata": {
        "id": "hv9XGZApp1rn",
        "colab_type": "code",
        "colab": {}
      },
      "cell_type": "code",
      "source": [
        "x = np.arange(0,100,0.001).astype(np.float32)\n",
        "y = np.sqrt(x)"
      ],
      "execution_count": 0,
      "outputs": []
    },
    {
      "metadata": {
        "id": "6Qq9FSbnp-DE",
        "colab_type": "code",
        "colab": {
          "base_uri": "https://localhost:8080/",
          "height": 265
        },
        "outputId": "bd16d956-e3b1-4f22-abe8-ac5401f1a1e0"
      },
      "cell_type": "code",
      "source": [
        "plt.plot(y)\n",
        "plt.show()"
      ],
      "execution_count": 0,
      "outputs": [
        {
          "output_type": "display_data",
          "data": {
            "image/png": "[encoded data removed]",
            "text/plain": [
              "<matplotlib.figure.Figure at 0x7fc2e0176ad0>"
            ]
          },
          "metadata": {
            "tags": []
          }
        }
      ]
    },
    {
      "metadata": {
        "id": "kWuF7i_iqIgR",
        "colab_type": "code",
        "colab": {}
      },
      "cell_type": "code",
      "source": [
        "input_fn = tf.estimator.inputs.numpy_input_fn({'data':x}, y, batch_size=8, num_epochs=10, shuffle=True)\n",
        "input_fn_2 = tf.estimator.inputs.numpy_input_fn({'data':x}, None, batch_size=1, shuffle=False)"
      ],
      "execution_count": 0,
      "outputs": []
    },
    {
      "metadata": {
        "id": "ppzRZju2qJYg",
        "colab_type": "code",
        "colab": {
          "base_uri": "https://localhost:8080/",
          "height": 88
        },
        "outputId": "94bd3514-3037-492d-f337-90cb1ad939fb"
      },
      "cell_type": "code",
      "source": [
        "deep_estimator = tf.estimator.DNNRegressor(\n",
        "  feature_columns = [tf.feature_column.numeric_column('data',[1])],\n",
        "  hidden_units = [100,100],\n",
        "  activation_fn=tf.nn.tanh)"
      ],
      "execution_count": 0,
      "outputs": [
        {
          "output_type": "stream",
          "text": [
            "INFO:tensorflow:Using default config.\n",
            "WARNING:tensorflow:Using temporary folder as model directory: /tmp/tmpDW3QLk\n",
            "INFO:tensorflow:Using config: {'_save_checkpoints_secs': 600, '_session_config': None, '_keep_checkpoint_max': 5, '_task_type': 'worker', '_is_chief': True, '_cluster_spec': <tensorflow.python.training.server_lib.ClusterSpec object at 0x7fc2e1e9ad10>, '_save_checkpoints_steps': None, '_keep_checkpoint_every_n_hours': 10000, '_service': None, '_num_ps_replicas': 0, '_tf_random_seed': None, '_master': '', '_num_worker_replicas': 1, '_task_id': 0, '_log_step_count_steps': 100, '_model_dir': '/tmp/tmpDW3QLk', '_save_summary_steps': 100}\n"
          ],
          "name": "stdout"
        }
      ]
    },
    {
      "metadata": {
        "id": "QHRLe9u-qMth",
        "colab_type": "code",
        "colab": {
          "base_uri": "https://localhost:8080/",
          "height": 4335
        },
        "outputId": "e37b2d63-c7c2-4dd2-af74-676e2f4181db"
      },
      "cell_type": "code",
      "source": [
        "deep_estimator.train(input_fn=input_fn)"
      ],
      "execution_count": 0,
      "outputs": [
        {
          "output_type": "stream",
          "text": [
            "INFO:tensorflow:Create CheckpointSaverHook.\n",
            "INFO:tensorflow:Saving checkpoints for 1 into /tmp/tmpDW3QLk/model.ckpt.\n",
            "INFO:tensorflow:loss = 57.4163, step = 1\n",
            "INFO:tensorflow:global_step/sec: 681.757\n",
            "INFO:tensorflow:loss = 0.0656684, step = 101 (0.151 sec)\n",
            "INFO:tensorflow:global_step/sec: 942.453\n",
            "INFO:tensorflow:loss = 0.0353383, step = 201 (0.106 sec)\n",
            "INFO:tensorflow:global_step/sec: 999.81\n",
            "INFO:tensorflow:loss = 0.035398, step = 301 (0.099 sec)\n",
            "INFO:tensorflow:global_step/sec: 955.475\n",
            "INFO:tensorflow:loss = 0.0181717, step = 401 (0.104 sec)\n",
            "INFO:tensorflow:global_step/sec: 915.449\n",
            "INFO:tensorflow:loss = 0.0513462, step = 501 (0.109 sec)\n",
            "INFO:tensorflow:global_step/sec: 833.917\n",
            "INFO:tensorflow:loss = 0.00407947, step = 601 (0.122 sec)\n",
            "INFO:tensorflow:global_step/sec: 727.69\n",
            "INFO:tensorflow:loss = 0.0145971, step = 701 (0.136 sec)\n",
            "INFO:tensorflow:global_step/sec: 791.409\n",
            "INFO:tensorflow:loss = 0.0021857, step = 801 (0.129 sec)\n",
            "INFO:tensorflow:global_step/sec: 646.864\n",
            "INFO:tensorflow:loss = 0.00188054, step = 901 (0.155 sec)\n",
            "INFO:tensorflow:global_step/sec: 900.025\n",
            "INFO:tensorflow:loss = 0.0455865, step = 1001 (0.116 sec)\n",
            "INFO:tensorflow:global_step/sec: 784.123\n",
            "INFO:tensorflow:loss = 0.0393134, step = 1101 (0.123 sec)\n",
            "INFO:tensorflow:global_step/sec: 697.486\n",
            "INFO:tensorflow:loss = 0.0122443, step = 1201 (0.143 sec)\n",
            "INFO:tensorflow:global_step/sec: 684.829\n",
            "INFO:tensorflow:loss = 0.0286727, step = 1301 (0.147 sec)\n",
            "INFO:tensorflow:global_step/sec: 598.058\n",
            "INFO:tensorflow:loss = 0.00265724, step = 1401 (0.166 sec)\n",
            "INFO:tensorflow:global_step/sec: 556.619\n",
            "INFO:tensorflow:loss = 0.00475991, step = 1501 (0.180 sec)\n",
            "INFO:tensorflow:global_step/sec: 775.332\n",
            "INFO:tensorflow:loss = 0.0136908, step = 1601 (0.129 sec)\n",
            "INFO:tensorflow:global_step/sec: 596.445\n",
            "INFO:tensorflow:loss = 0.00307145, step = 1701 (0.165 sec)\n",
            "INFO:tensorflow:global_step/sec: 638.884\n",
            "INFO:tensorflow:loss = 0.025036, step = 1801 (0.157 sec)\n",
            "INFO:tensorflow:global_step/sec: 579.327\n",
            "INFO:tensorflow:loss = 0.00299198, step = 1901 (0.172 sec)\n",
            "INFO:tensorflow:global_step/sec: 606.337\n",
            "INFO:tensorflow:loss = 0.000102676, step = 2001 (0.165 sec)\n",
            "INFO:tensorflow:global_step/sec: 681.361\n",
            "INFO:tensorflow:loss = 0.000738918, step = 2101 (0.147 sec)\n",
            "INFO:tensorflow:global_step/sec: 619.276\n",
            "INFO:tensorflow:loss = 0.000402727, step = 2201 (0.164 sec)\n",
            "INFO:tensorflow:global_step/sec: 585.226\n",
            "INFO:tensorflow:loss = 0.000368859, step = 2301 (0.174 sec)\n",
            "INFO:tensorflow:global_step/sec: 758.702\n",
            "INFO:tensorflow:loss = 0.00358442, step = 2401 (0.125 sec)\n",
            "INFO:tensorflow:global_step/sec: 581.45\n",
            "INFO:tensorflow:loss = 0.000319641, step = 2501 (0.174 sec)\n",
            "INFO:tensorflow:global_step/sec: 828.631\n",
            "INFO:tensorflow:loss = 0.0102386, step = 2601 (0.120 sec)\n",
            "INFO:tensorflow:global_step/sec: 812.651\n",
            "INFO:tensorflow:loss = 0.000266438, step = 2701 (0.122 sec)\n",
            "INFO:tensorflow:global_step/sec: 555.047\n",
            "INFO:tensorflow:loss = 0.00203519, step = 2801 (0.184 sec)\n",
            "INFO:tensorflow:global_step/sec: 577.721\n",
            "INFO:tensorflow:loss = 0.00307979, step = 2901 (0.172 sec)\n",
            "INFO:tensorflow:global_step/sec: 582.289\n",
            "INFO:tensorflow:loss = 0.00824898, step = 3001 (0.170 sec)\n"
          ],
          "name": "stdout"
        },
        {
          "output_type": "stream",
          "text": [
            "INFO:tensorflow:global_step/sec: 587.537\n",
            "INFO:tensorflow:loss = 0.00183557, step = 3101 (0.174 sec)\n",
            "INFO:tensorflow:global_step/sec: 824.715\n",
            "INFO:tensorflow:loss = 0.000569671, step = 3201 (0.121 sec)\n",
            "INFO:tensorflow:global_step/sec: 673.219\n",
            "INFO:tensorflow:loss = 0.000450767, step = 3301 (0.148 sec)\n",
            "INFO:tensorflow:global_step/sec: 589.633\n",
            "INFO:tensorflow:loss = 0.000453331, step = 3401 (0.170 sec)\n",
            "INFO:tensorflow:global_step/sec: 565.953\n",
            "INFO:tensorflow:loss = 0.0020021, step = 3501 (0.173 sec)\n",
            "INFO:tensorflow:global_step/sec: 599.977\n",
            "INFO:tensorflow:loss = 0.000214403, step = 3601 (0.169 sec)\n",
            "INFO:tensorflow:global_step/sec: 623.169\n",
            "INFO:tensorflow:loss = 0.000234288, step = 3701 (0.160 sec)\n",
            "INFO:tensorflow:global_step/sec: 579.935\n",
            "INFO:tensorflow:loss = 0.000865053, step = 3801 (0.171 sec)\n",
            "INFO:tensorflow:global_step/sec: 595.923\n",
            "INFO:tensorflow:loss = 0.00799257, step = 3901 (0.167 sec)\n",
            "INFO:tensorflow:global_step/sec: 592.322\n",
            "INFO:tensorflow:loss = 0.0098418, step = 4001 (0.173 sec)\n",
            "INFO:tensorflow:global_step/sec: 659.574\n",
            "INFO:tensorflow:loss = 0.00829781, step = 4101 (0.151 sec)\n",
            "INFO:tensorflow:global_step/sec: 584.46\n",
            "INFO:tensorflow:loss = 0.0115867, step = 4201 (0.168 sec)\n",
            "INFO:tensorflow:global_step/sec: 611.864\n",
            "INFO:tensorflow:loss = 0.00750848, step = 4301 (0.170 sec)\n",
            "INFO:tensorflow:global_step/sec: 604.401\n",
            "INFO:tensorflow:loss = 0.0141404, step = 4401 (0.161 sec)\n",
            "INFO:tensorflow:global_step/sec: 553.885\n",
            "INFO:tensorflow:loss = 0.000549926, step = 4501 (0.178 sec)\n",
            "INFO:tensorflow:global_step/sec: 582.299\n",
            "INFO:tensorflow:loss = 0.00201868, step = 4601 (0.175 sec)\n",
            "INFO:tensorflow:global_step/sec: 718.024\n",
            "INFO:tensorflow:loss = 0.00210395, step = 4701 (0.137 sec)\n",
            "INFO:tensorflow:global_step/sec: 602.541\n",
            "INFO:tensorflow:loss = 0.000194997, step = 4801 (0.169 sec)\n",
            "INFO:tensorflow:global_step/sec: 890.448\n",
            "INFO:tensorflow:loss = 0.000275399, step = 4901 (0.112 sec)\n",
            "INFO:tensorflow:global_step/sec: 691.113\n",
            "INFO:tensorflow:loss = 4.57376e-05, step = 5001 (0.145 sec)\n",
            "INFO:tensorflow:global_step/sec: 755.003\n",
            "INFO:tensorflow:loss = 0.000270583, step = 5101 (0.132 sec)\n",
            "INFO:tensorflow:global_step/sec: 793.902\n",
            "INFO:tensorflow:loss = 0.000111288, step = 5201 (0.125 sec)\n",
            "INFO:tensorflow:global_step/sec: 571.863\n",
            "INFO:tensorflow:loss = 0.00037994, step = 5301 (0.174 sec)\n",
            "INFO:tensorflow:global_step/sec: 596.744\n",
            "INFO:tensorflow:loss = 0.0274606, step = 5401 (0.169 sec)\n",
            "INFO:tensorflow:global_step/sec: 572.783\n",
            "INFO:tensorflow:loss = 0.00175587, step = 5501 (0.176 sec)\n",
            "INFO:tensorflow:global_step/sec: 815.349\n",
            "INFO:tensorflow:loss = 0.00148042, step = 5601 (0.121 sec)\n",
            "INFO:tensorflow:global_step/sec: 808.746\n",
            "INFO:tensorflow:loss = 0.00151082, step = 5701 (0.122 sec)\n",
            "INFO:tensorflow:global_step/sec: 651.614\n",
            "INFO:tensorflow:loss = 0.011916, step = 5801 (0.153 sec)\n",
            "INFO:tensorflow:global_step/sec: 586.425\n",
            "INFO:tensorflow:loss = 0.00140528, step = 5901 (0.171 sec)\n",
            "INFO:tensorflow:global_step/sec: 606.362\n",
            "INFO:tensorflow:loss = 7.21035e-05, step = 6001 (0.164 sec)\n",
            "INFO:tensorflow:global_step/sec: 595.628\n",
            "INFO:tensorflow:loss = 0.000224946, step = 6101 (0.171 sec)\n"
          ],
          "name": "stdout"
        },
        {
          "output_type": "stream",
          "text": [
            "INFO:tensorflow:global_step/sec: 800.718\n",
            "INFO:tensorflow:loss = 0.000596899, step = 6201 (0.123 sec)\n",
            "INFO:tensorflow:global_step/sec: 703.982\n",
            "INFO:tensorflow:loss = 0.000258436, step = 6301 (0.144 sec)\n",
            "INFO:tensorflow:global_step/sec: 771.331\n",
            "INFO:tensorflow:loss = 0.000588579, step = 6401 (0.127 sec)\n",
            "INFO:tensorflow:global_step/sec: 676.632\n",
            "INFO:tensorflow:loss = 0.00127566, step = 6501 (0.148 sec)\n",
            "INFO:tensorflow:global_step/sec: 778.525\n",
            "INFO:tensorflow:loss = 0.0388026, step = 6601 (0.128 sec)\n",
            "INFO:tensorflow:global_step/sec: 792.531\n",
            "INFO:tensorflow:loss = 0.00105274, step = 6701 (0.127 sec)\n",
            "INFO:tensorflow:global_step/sec: 793.127\n",
            "INFO:tensorflow:loss = 0.00312722, step = 6801 (0.126 sec)\n",
            "INFO:tensorflow:global_step/sec: 761.987\n",
            "INFO:tensorflow:loss = 0.00376893, step = 6901 (0.131 sec)\n",
            "INFO:tensorflow:global_step/sec: 653.291\n",
            "INFO:tensorflow:loss = 0.00056968, step = 7001 (0.158 sec)\n",
            "INFO:tensorflow:global_step/sec: 583.748\n",
            "INFO:tensorflow:loss = 0.000436153, step = 7101 (0.170 sec)\n",
            "INFO:tensorflow:global_step/sec: 602.283\n",
            "INFO:tensorflow:loss = 0.000399687, step = 7201 (0.165 sec)\n",
            "INFO:tensorflow:global_step/sec: 604.179\n",
            "INFO:tensorflow:loss = 0.000120731, step = 7301 (0.165 sec)\n",
            "INFO:tensorflow:global_step/sec: 786.292\n",
            "INFO:tensorflow:loss = 0.000769833, step = 7401 (0.125 sec)\n",
            "INFO:tensorflow:global_step/sec: 696.147\n",
            "INFO:tensorflow:loss = 0.000517715, step = 7501 (0.143 sec)\n",
            "INFO:tensorflow:global_step/sec: 598.781\n",
            "INFO:tensorflow:loss = 0.000453861, step = 7601 (0.167 sec)\n",
            "INFO:tensorflow:global_step/sec: 582.574\n",
            "INFO:tensorflow:loss = 0.000193705, step = 7701 (0.172 sec)\n",
            "INFO:tensorflow:global_step/sec: 602.119\n",
            "INFO:tensorflow:loss = 0.000446926, step = 7801 (0.168 sec)\n",
            "INFO:tensorflow:global_step/sec: 582.031\n",
            "INFO:tensorflow:loss = 0.00941986, step = 7901 (0.173 sec)\n",
            "INFO:tensorflow:global_step/sec: 559.353\n",
            "INFO:tensorflow:loss = 0.00402972, step = 8001 (0.176 sec)\n",
            "INFO:tensorflow:global_step/sec: 592.407\n",
            "INFO:tensorflow:loss = 0.00370996, step = 8101 (0.169 sec)\n",
            "INFO:tensorflow:global_step/sec: 638.178\n",
            "INFO:tensorflow:loss = 0.00123329, step = 8201 (0.159 sec)\n",
            "INFO:tensorflow:global_step/sec: 725.301\n",
            "INFO:tensorflow:loss = 0.000471681, step = 8301 (0.140 sec)\n",
            "INFO:tensorflow:global_step/sec: 677.081\n",
            "INFO:tensorflow:loss = 0.000372055, step = 8401 (0.146 sec)\n",
            "INFO:tensorflow:global_step/sec: 691.128\n",
            "INFO:tensorflow:loss = 0.000141728, step = 8501 (0.142 sec)\n",
            "INFO:tensorflow:global_step/sec: 832.472\n",
            "INFO:tensorflow:loss = 0.000198725, step = 8601 (0.120 sec)\n",
            "INFO:tensorflow:global_step/sec: 586.363\n",
            "INFO:tensorflow:loss = 2.68162e-05, step = 8701 (0.172 sec)\n",
            "INFO:tensorflow:global_step/sec: 781.378\n",
            "INFO:tensorflow:loss = 0.000230437, step = 8801 (0.130 sec)\n",
            "INFO:tensorflow:global_step/sec: 717.525\n",
            "INFO:tensorflow:loss = 2.59541e-06, step = 8901 (0.138 sec)\n",
            "INFO:tensorflow:global_step/sec: 768.989\n",
            "INFO:tensorflow:loss = 0.00120489, step = 9001 (0.130 sec)\n",
            "INFO:tensorflow:global_step/sec: 612.617\n",
            "INFO:tensorflow:loss = 0.0156213, step = 9101 (0.161 sec)\n",
            "INFO:tensorflow:global_step/sec: 597.314\n",
            "INFO:tensorflow:loss = 0.00188964, step = 9201 (0.171 sec)\n"
          ],
          "name": "stdout"
        },
        {
          "output_type": "stream",
          "text": [
            "INFO:tensorflow:global_step/sec: 574.967\n",
            "INFO:tensorflow:loss = 0.000714178, step = 9301 (0.171 sec)\n",
            "INFO:tensorflow:global_step/sec: 602.824\n",
            "INFO:tensorflow:loss = 0.00197725, step = 9401 (0.166 sec)\n",
            "INFO:tensorflow:global_step/sec: 662.322\n",
            "INFO:tensorflow:loss = 8.64006e-05, step = 9501 (0.154 sec)\n",
            "INFO:tensorflow:global_step/sec: 752.066\n",
            "INFO:tensorflow:loss = 0.000935336, step = 9601 (0.132 sec)\n",
            "INFO:tensorflow:global_step/sec: 792.456\n",
            "INFO:tensorflow:loss = 0.000845743, step = 9701 (0.127 sec)\n",
            "INFO:tensorflow:global_step/sec: 703.052\n",
            "INFO:tensorflow:loss = 5.47256e-05, step = 9801 (0.143 sec)\n",
            "INFO:tensorflow:global_step/sec: 616.899\n",
            "INFO:tensorflow:loss = 6.17433e-05, step = 9901 (0.161 sec)\n",
            "INFO:tensorflow:global_step/sec: 670.012\n",
            "INFO:tensorflow:loss = 9.19985e-05, step = 10001 (0.149 sec)\n",
            "INFO:tensorflow:global_step/sec: 841.778\n",
            "INFO:tensorflow:loss = 0.000294654, step = 10101 (0.120 sec)\n",
            "INFO:tensorflow:global_step/sec: 758.259\n",
            "INFO:tensorflow:loss = 0.000142975, step = 10201 (0.132 sec)\n",
            "INFO:tensorflow:global_step/sec: 598.666\n",
            "INFO:tensorflow:loss = 2.62321e-05, step = 10301 (0.164 sec)\n",
            "INFO:tensorflow:global_step/sec: 561.949\n",
            "INFO:tensorflow:loss = 0.00117873, step = 10401 (0.180 sec)\n",
            "INFO:tensorflow:global_step/sec: 581.821\n",
            "INFO:tensorflow:loss = 0.00131585, step = 10501 (0.169 sec)\n",
            "INFO:tensorflow:global_step/sec: 757.427\n",
            "INFO:tensorflow:loss = 0.00119135, step = 10601 (0.133 sec)\n",
            "INFO:tensorflow:global_step/sec: 648.265\n",
            "INFO:tensorflow:loss = 0.0016289, step = 10701 (0.155 sec)\n",
            "INFO:tensorflow:global_step/sec: 734.667\n",
            "INFO:tensorflow:loss = 0.000500515, step = 10801 (0.134 sec)\n",
            "INFO:tensorflow:global_step/sec: 746.002\n",
            "INFO:tensorflow:loss = 0.000288816, step = 10901 (0.141 sec)\n",
            "INFO:tensorflow:global_step/sec: 566.652\n",
            "INFO:tensorflow:loss = 7.84929e-05, step = 11001 (0.169 sec)\n",
            "INFO:tensorflow:global_step/sec: 789.51\n",
            "INFO:tensorflow:loss = 6.24866e-05, step = 11101 (0.130 sec)\n",
            "INFO:tensorflow:global_step/sec: 748.889\n",
            "INFO:tensorflow:loss = 8.70901e-05, step = 11201 (0.132 sec)\n",
            "INFO:tensorflow:global_step/sec: 700.221\n",
            "INFO:tensorflow:loss = 0.000100973, step = 11301 (0.141 sec)\n",
            "INFO:tensorflow:global_step/sec: 647.442\n",
            "INFO:tensorflow:loss = 4.0851e-05, step = 11401 (0.158 sec)\n",
            "INFO:tensorflow:global_step/sec: 523.686\n",
            "INFO:tensorflow:loss = 5.99169e-05, step = 11501 (0.187 sec)\n",
            "INFO:tensorflow:global_step/sec: 730.658\n",
            "INFO:tensorflow:loss = 0.000211325, step = 11601 (0.137 sec)\n",
            "INFO:tensorflow:global_step/sec: 616.972\n",
            "INFO:tensorflow:loss = 0.00139084, step = 11701 (0.168 sec)\n",
            "INFO:tensorflow:global_step/sec: 684.149\n",
            "INFO:tensorflow:loss = 0.0151766, step = 11801 (0.144 sec)\n",
            "INFO:tensorflow:global_step/sec: 679.006\n",
            "INFO:tensorflow:loss = 0.00260924, step = 11901 (0.148 sec)\n",
            "INFO:tensorflow:global_step/sec: 623.624\n",
            "INFO:tensorflow:loss = 0.000315543, step = 12001 (0.159 sec)\n",
            "INFO:tensorflow:global_step/sec: 594.598\n",
            "INFO:tensorflow:loss = 0.000345432, step = 12101 (0.165 sec)\n",
            "INFO:tensorflow:global_step/sec: 607.57\n",
            "INFO:tensorflow:loss = 0.0045832, step = 12201 (0.168 sec)\n",
            "INFO:tensorflow:global_step/sec: 620.067\n",
            "INFO:tensorflow:loss = 0.00011177, step = 12301 (0.158 sec)\n"
          ],
          "name": "stdout"
        },
        {
          "output_type": "stream",
          "text": [
            "INFO:tensorflow:global_step/sec: 654.631\n",
            "INFO:tensorflow:loss = 0.000164234, step = 12401 (0.153 sec)\n",
            "INFO:tensorflow:Saving checkpoints for 12500 into /tmp/tmpDW3QLk/model.ckpt.\n",
            "INFO:tensorflow:Loss for final step: 5.51373e-05.\n"
          ],
          "name": "stdout"
        },
        {
          "output_type": "execute_result",
          "data": {
            "text/plain": [
              "<tensorflow.python.estimator.canned.dnn.DNNRegressor at 0x7fc2e1e9a9d0>"
            ]
          },
          "metadata": {
            "tags": []
          },
          "execution_count": 95
        }
      ]
    },
    {
      "metadata": {
        "id": "cPHIYK_PqP-P",
        "colab_type": "code",
        "colab": {
          "base_uri": "https://localhost:8080/",
          "height": 34
        },
        "outputId": "7220a650-586e-4db1-a24c-0f7bc391f0e0"
      },
      "cell_type": "code",
      "source": [
        "predictions = make_predictions(deep_estimator, input_fn_2)"
      ],
      "execution_count": 0,
      "outputs": [
        {
          "output_type": "stream",
          "text": [
            "INFO:tensorflow:Restoring parameters from /tmp/tmpDW3QLk/model.ckpt-12500\n"
          ],
          "name": "stdout"
        }
      ]
    },
    {
      "metadata": {
        "id": "OkNqvQMaqREj",
        "colab_type": "code",
        "colab": {
          "base_uri": "https://localhost:8080/",
          "height": 265
        },
        "outputId": "8b8fb8ea-e26f-49ba-84e1-939f73bf1156"
      },
      "cell_type": "code",
      "source": [
        "plt.plot(predictions)\n",
        "plt.show()"
      ],
      "execution_count": 0,
      "outputs": [
        {
          "output_type": "display_data",
          "data": {
            "image/png": "[encoded data removed]",
            "text/plain": [
              "<matplotlib.figure.Figure at 0x7fc2e2728b90>"
            ]
          },
          "metadata": {
            "tags": []
          }
        }
      ]
    },
    {
      "metadata": {
        "id": "ePwM7aPGwOqp",
        "colab_type": "text"
      },
      "cell_type": "markdown",
      "source": [
        "# conversions"
      ]
    },
    {
      "metadata": {
        "id": "8DDa1TJVvO5E",
        "colab_type": "code",
        "colab": {}
      },
      "cell_type": "code",
      "source": [
        "# features, labels = input_fn()\n",
        "# estimator_spec = estimator.model_fn(features, labels, tf.estimator.ModeKeys.PREDICT, {})"
      ],
      "execution_count": 0,
      "outputs": []
    },
    {
      "metadata": {
        "id": "wSZLDLBp9NDF",
        "colab_type": "code",
        "colab": {}
      },
      "cell_type": "code",
      "source": [
        "def input_fn_to_generator(input_fn, sess):\n",
        "  data, labels = input_fn()\n",
        "  while True:\n",
        "    try:\n",
        "      yield sess.run([data, labels])\n",
        "    except tf.errors.OutOfRangeError:\n",
        "      raise StopIteration"
      ],
      "execution_count": 0,
      "outputs": []
    },
    {
      "metadata": {
        "id": "7Wfa6SvL-sX3",
        "colab_type": "code",
        "colab": {}
      },
      "cell_type": "code",
      "source": [
        "# dont work\n",
        "# g1 = input_fn_to_generator(input_fn, sess)\n",
        "# g1.next()"
      ],
      "execution_count": 0,
      "outputs": []
    },
    {
      "metadata": {
        "id": "fgOVIeDbZcoX",
        "colab_type": "code",
        "colab": {}
      },
      "cell_type": "code",
      "source": [
        "def dataset_to_generator(ds, sess):\n",
        "  iter = ds.make_one_shot_iterator().get_next()\n",
        "  while True:\n",
        "    try:\n",
        "      yield sess.run([iter])\n",
        "    except tf.errors.OutOfRangeError:\n",
        "      raise StopIteration"
      ],
      "execution_count": 0,
      "outputs": []
    },
    {
      "metadata": {
        "id": "qNYxeZYLlK-p",
        "colab_type": "code",
        "colab": {}
      },
      "cell_type": "code",
      "source": [
        "def dataset_to_numpy(ds, sess):\n",
        "  gen = dataset_to_generator(ds, sess)\n",
        "  return np.concatenate(list(gen))"
      ],
      "execution_count": 0,
      "outputs": []
    },
    {
      "metadata": {
        "id": "h05WkUY7lZDt",
        "colab_type": "code",
        "colab": {}
      },
      "cell_type": "code",
      "source": [
        "\n",
        "  "
      ],
      "execution_count": 0,
      "outputs": []
    },
    {
      "metadata": {
        "id": "BV-asdLnlUXN",
        "colab_type": "code",
        "colab": {
          "base_uri": "https://localhost:8080/",
          "height": 34
        },
        "outputId": "f79df07b-7b06-4d7c-9af8-65ce25b22997"
      },
      "cell_type": "code",
      "source": [
        "dataset_to_numpy(ds, sess)"
      ],
      "execution_count": 0,
      "outputs": [
        {
          "output_type": "execute_result",
          "data": {
            "text/plain": [
              "array([1, 2, 3, 4], dtype=int32)"
            ]
          },
          "metadata": {
            "tags": []
          },
          "execution_count": 79
        }
      ]
    },
    {
      "metadata": {
        "id": "yGZsyHldSYqG",
        "colab_type": "code",
        "colab": {}
      },
      "cell_type": "code",
      "source": [
        "ds = tf.data.Dataset.from_tensor_slices([1,2,3,4])\n",
        "sess = tf.Session()"
      ],
      "execution_count": 0,
      "outputs": []
    },
    {
      "metadata": {
        "id": "vg7yjEUDYAT8",
        "colab_type": "code",
        "colab": {}
      },
      "cell_type": "code",
      "source": [
        ""
      ],
      "execution_count": 0,
      "outputs": []
    }
  ]
}